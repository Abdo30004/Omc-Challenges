{
  "cells": [
    {
      "cell_type": "markdown",
      "source": [
        "# **1-Installing Libraries**"
      ],
      "metadata": {
        "id": "yfoetokx0N3-"
      }
    },
    {
      "cell_type": "code",
      "execution_count": 6,
      "metadata": {
        "colab": {
          "base_uri": "https://localhost:8080/"
        },
        "id": "hc0-WZf0DPfB",
        "outputId": "f0b0e35d-0b0a-496c-8913-e630f5c6c904"
      },
      "outputs": [
        {
          "output_type": "stream",
          "name": "stdout",
          "text": [
            "Requirement already satisfied: pandas in /usr/local/lib/python3.10/dist-packages (1.5.3)\n",
            "Requirement already satisfied: scikit-learn in /usr/local/lib/python3.10/dist-packages (1.2.2)\n",
            "Requirement already satisfied: nltk in /usr/local/lib/python3.10/dist-packages (3.8.1)\n",
            "Requirement already satisfied: python-dateutil>=2.8.1 in /usr/local/lib/python3.10/dist-packages (from pandas) (2.8.2)\n",
            "Requirement already satisfied: pytz>=2020.1 in /usr/local/lib/python3.10/dist-packages (from pandas) (2023.3.post1)\n",
            "Requirement already satisfied: numpy>=1.21.0 in /usr/local/lib/python3.10/dist-packages (from pandas) (1.23.5)\n",
            "Requirement already satisfied: scipy>=1.3.2 in /usr/local/lib/python3.10/dist-packages (from scikit-learn) (1.11.4)\n",
            "Requirement already satisfied: joblib>=1.1.1 in /usr/local/lib/python3.10/dist-packages (from scikit-learn) (1.3.2)\n",
            "Requirement already satisfied: threadpoolctl>=2.0.0 in /usr/local/lib/python3.10/dist-packages (from scikit-learn) (3.2.0)\n",
            "Requirement already satisfied: click in /usr/local/lib/python3.10/dist-packages (from nltk) (8.1.7)\n",
            "Requirement already satisfied: regex>=2021.8.3 in /usr/local/lib/python3.10/dist-packages (from nltk) (2023.6.3)\n",
            "Requirement already satisfied: tqdm in /usr/local/lib/python3.10/dist-packages (from nltk) (4.66.1)\n",
            "Requirement already satisfied: six>=1.5 in /usr/local/lib/python3.10/dist-packages (from python-dateutil>=2.8.1->pandas) (1.16.0)\n"
          ]
        }
      ],
      "source": [
        "!pip install pandas scikit-learn nltk"
      ]
    },
    {
      "cell_type": "markdown",
      "source": [
        "# **2-Importing Libraries**\n",
        "\n"
      ],
      "metadata": {
        "id": "pUfPzd_O0hAP"
      }
    },
    {
      "cell_type": "code",
      "execution_count": 7,
      "metadata": {
        "id": "W7oWF3XiDTwQ"
      },
      "outputs": [],
      "source": [
        "import pandas as pd\n",
        "from sklearn.model_selection import train_test_split\n",
        "from sklearn.feature_extraction.text import CountVectorizer\n",
        "from sklearn.svm import SVC\n",
        "from sklearn.metrics import accuracy_score\n",
        "from sklearn.pipeline import make_pipeline\n",
        "import tensorflow as tf\n",
        "from joblib import dump,load"
      ]
    },
    {
      "cell_type": "markdown",
      "source": [
        "# **3-Config**"
      ],
      "metadata": {
        "id": "XvtM-Ksj0ZCk"
      }
    },
    {
      "cell_type": "code",
      "execution_count": 8,
      "metadata": {
        "colab": {
          "base_uri": "https://localhost:8080/"
        },
        "id": "9Art_Pp_DWSU",
        "outputId": "f683580a-3934-4df3-da48-154ccd1772c6"
      },
      "outputs": [
        {
          "output_type": "stream",
          "name": "stdout",
          "text": [
            "Using The GPU\n"
          ]
        }
      ],
      "source": [
        "if tf.test.gpu_device_name():\n",
        "  gpu=True;\n",
        "  print(\"Using The GPU\")\n",
        "else :\n",
        "  gpu=False\n",
        "  print(\"Using The CPU\")\n",
        "\n",
        "\n",
        "device='/device:GPU:0' if gpu else '/device:CPU:0'\n",
        "file_path = '/content/drive/MyDrive/dataset.csv' # dataset in drive\n",
        "model_path='/content/drive/MyDrive/movies_model.joblib' # trained model\n",
        "loading_state=True\n",
        "\n"
      ]
    },
    {
      "cell_type": "markdown",
      "source": [
        "# **4-Reading Data**\n"
      ],
      "metadata": {
        "id": "2HHnp5kI7cdC"
      }
    },
    {
      "cell_type": "code",
      "execution_count": 9,
      "metadata": {
        "id": "O74kB27UIFBg"
      },
      "outputs": [],
      "source": [
        "df = pd.read_csv(file_path)\n",
        "train_data, test_data, train_labels, test_labels = train_test_split(\n",
        "    df['review'], df['sentiment'], test_size=0.05, random_state=139 #freedom\n",
        ")"
      ]
    },
    {
      "cell_type": "markdown",
      "source": [
        "# **5-Training The model Or Loading it from joblib file**"
      ],
      "metadata": {
        "id": "AfJoMEXT8qxt"
      }
    },
    {
      "cell_type": "code",
      "execution_count": 10,
      "metadata": {
        "id": "x-pzG1fjDWl0"
      },
      "outputs": [],
      "source": [
        "model =load(model_path) if loading_state else  make_pipeline(CountVectorizer(), SVC())\n",
        "if not loading_state :\n",
        "  with tf.device(device):\n",
        "    model.fit(train_data, train_labels) #32 min in google collab T4 GPU\n",
        "  dump(model, model_path);\n"
      ]
    },
    {
      "cell_type": "markdown",
      "source": [
        "# **6-Checking Accuracy**"
      ],
      "metadata": {
        "id": "-QxF0u6X5-HO"
      }
    },
    {
      "cell_type": "code",
      "execution_count": 11,
      "metadata": {
        "colab": {
          "base_uri": "https://localhost:8080/"
        },
        "id": "Jf_kQNgRDeOc",
        "outputId": "c0ab4ae4-6ba0-4d63-9206-d06d617854b9"
      },
      "outputs": [
        {
          "output_type": "stream",
          "name": "stdout",
          "text": [
            "Accuracy: 92.60%\n"
          ]
        }
      ],
      "source": [
        "\n",
        "predictions = model.predict(test_data)\n",
        "accuracy = accuracy_score(test_labels, predictions)\n",
        "print(f\"Accuracy: {accuracy * 100:.2f}%\")"
      ]
    },
    {
      "cell_type": "markdown",
      "source": [
        "# **7-Testing User inputs**\n"
      ],
      "metadata": {
        "id": "2rNRl6zL-22o"
      }
    },
    {
      "cell_type": "code",
      "source": [
        "new_reviews=[]\n",
        "print(\"Type exit to stop\")\n",
        "i=1\n",
        "while True :\n",
        "  text=input(f\"Type Your {i}th review :\").strip()\n",
        "  if text== \"exit\":\n",
        "    break;\n",
        "\n",
        "  new_reviews.append(text)\n",
        "  i+=1\n",
        "\n",
        "new_predictions=model.predict(new_reviews);\n",
        "\n",
        "for review, prediction in zip(new_reviews, new_predictions):\n",
        "    print(f\"Review: {review}\")\n",
        "    print(f\"Predicted Sentiment: {'Positive' if prediction == 'positive' else 'Negative'}\")"
      ],
      "metadata": {
        "colab": {
          "base_uri": "https://localhost:8080/"
        },
        "id": "bbwQ-fgQg1Xd",
        "outputId": "552bd521-833b-408f-ac9f-c114d4517a6b"
      },
      "execution_count": 12,
      "outputs": [
        {
          "output_type": "stream",
          "name": "stdout",
          "text": [
            "Type exit to stop\n",
            "Type Your 1th review :The film was an absolute disaster. The plot was confusing, the acting was terrible, and I found myself bored to tears. I wouldn't recommend it to my worst enemy.\n",
            "Type Your 2th review :exit\n",
            "Review: The film was an absolute disaster. The plot was confusing, the acting was terrible, and I found myself bored to tears. I wouldn't recommend it to my worst enemy.\n",
            "Predicted Sentiment: Negative\n"
          ]
        }
      ]
    }
  ],
  "metadata": {
    "accelerator": "GPU",
    "colab": {
      "provenance": [],
      "collapsed_sections": [
        "yfoetokx0N3-"
      ],
      "gpuType": "T4"
    },
    "kernelspec": {
      "display_name": "Python 3",
      "name": "python3"
    },
    "language_info": {
      "name": "python"
    }
  },
  "nbformat": 4,
  "nbformat_minor": 0
}